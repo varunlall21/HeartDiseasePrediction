{
 "cells": [
  {
   "cell_type": "code",
   "execution_count": 5,
   "metadata": {},
   "outputs": [
    {
     "name": "stdout",
     "output_type": "stream",
     "text": [
      " Missing Values:\n",
      "age         0\n",
      "sex         0\n",
      "cp          0\n",
      "trestbps    0\n",
      "chol        0\n",
      "fbs         0\n",
      "restecg     0\n",
      "thalach     0\n",
      "exang       0\n",
      "oldpeak     0\n",
      "slope       0\n",
      "ca          0\n",
      "thal        0\n",
      "target      0\n",
      "dtype: int64\n",
      "\n",
      "Class Balance in 'target':\n",
      "target\n",
      "1    526\n",
      "0    499\n",
      "Name: count, dtype: int64\n",
      "\n",
      "Percentage Distribution:\n",
      "target\n",
      "1    51.317073\n",
      "0    48.682927\n",
      "Name: proportion, dtype: float64\n"
     ]
    }
   ],
   "source": [
    "import pandas as pd\n",
    "\n",
    "# Load data\n",
    "data = pd.read_csv('heart.csv')\n",
    "\n",
    "# 1. Check for missing values\n",
    "print(\" Missing Values:\")\n",
    "print(data.isnull().sum())\n",
    " \n",
    "# 2. Check class balance in the target variable\n",
    "if 'target' in data.columns:\n",
    "    print(\"\\nClass Balance in 'target':\")\n",
    "    print(data['target'].value_counts())\n",
    "    print(\"\\nPercentage Distribution:\")\n",
    "    print(data['target'].value_counts(normalize=True) * 100)\n",
    "else:\n",
    "    print(\"\\n❌ 'target' column not found in the dataset.\")\n"
   ]
  },
  {
   "cell_type": "code",
   "execution_count": 1,
   "metadata": {},
   "outputs": [
    {
     "name": "stdout",
     "output_type": "stream",
     "text": [
      "Dataset loaded successfully.\n",
      "First few rows of the dataset:\n",
      "   age  sex  cp  trestbps  chol  fbs  restecg  thalach  exang  oldpeak  slope  \\\n",
      "0   52    1   0       125   212    0        1      168      0      1.0      2   \n",
      "1   53    1   0       140   203    1        0      155      1      3.1      0   \n",
      "2   70    1   0       145   174    0        1      125      1      2.6      0   \n",
      "3   61    1   0       148   203    0        1      161      0      0.0      2   \n",
      "4   62    0   0       138   294    1        1      106      0      1.9      1   \n",
      "\n",
      "   ca  thal  target  \n",
      "0   2     3       0  \n",
      "1   0     3       0  \n",
      "2   0     3       0  \n",
      "3   1     3       0  \n",
      "4   3     2       0  \n",
      "Data split into training and testing sets.\n",
      "Model training completed.\n",
      "Model trained and saved as 'heart_disease_model.pkl'\n",
      "\n",
      " F1 Score: 0.9852\n",
      "\n",
      " Accuracy: 0.9854\n",
      "\n",
      " Classification Report:\n",
      "              precision    recall  f1-score   support\n",
      "\n",
      "           0       0.97      1.00      0.99       102\n",
      "           1       1.00      0.97      0.99       103\n",
      "\n",
      "    accuracy                           0.99       205\n",
      "   macro avg       0.99      0.99      0.99       205\n",
      "weighted avg       0.99      0.99      0.99       205\n",
      "\n"
     ]
    }
   ],
   "source": [
    "import pandas as pd\n",
    "from sklearn.model_selection import train_test_split\n",
    "from sklearn.ensemble import RandomForestClassifier\n",
    "import joblib\n",
    "\n",
    "# Load the dataset\n",
    "try:\n",
    "    data = pd.read_csv('heart.csv')\n",
    "    print(\"Dataset loaded successfully.\")\n",
    "except FileNotFoundError:\n",
    "    print(\"Error: 'heart.csv' file not found.\")\n",
    "    exit()\n",
    "\n",
    "# Check the first few rows of the dataset\n",
    "print(\"First few rows of the dataset:\")\n",
    "print(data.head())\n",
    "\n",
    "# Prepare the features and target variable\n",
    "X = data.drop('target', axis=1)  # Assuming 'target' is the column for heart disease\n",
    "y = data['target']\n",
    "\n",
    "# Split the dataset into training and testing sets\n",
    "X_train, X_test, y_train, y_test = train_test_split(X, y, test_size=0.2, random_state=42)\n",
    "print(\"Data split into training and testing sets.\")\n",
    "\n",
    "# Train the model\n",
    "model = RandomForestClassifier(n_estimators=100, random_state=42)\n",
    "model.fit(X_train, y_train)\n",
    "print(\"Model training completed.\")\n",
    "\n",
    "# Save the trained model\n",
    "joblib.dump(model, 'heart_disease_model.pkl')\n",
    "print(\"Model trained and saved as 'heart_disease_model.pkl'\")\n",
    "\n",
    "from sklearn.metrics import classification_report, confusion_matrix, accuracy_score, f1_score\n",
    "\n",
    "# Make predictions\n",
    "y_pred = model.predict(X_test)\n",
    "\n",
    "# F1 Score\n",
    "f1 = f1_score(y_test, y_pred)\n",
    "print(f\"\\n F1 Score: {f1:.4f}\")\n",
    "\n",
    "# Accuracy\n",
    "acc = accuracy_score(y_test, y_pred)\n",
    "print(f\"\\n Accuracy: {acc:.4f}\")\n",
    "\n",
    "# Optional: Full Classification Report\n",
    "print(\"\\n Classification Report:\")\n",
    "print(classification_report(y_test, y_pred))\n"
   ]
  },
  {
   "cell_type": "code",
   "execution_count": 3,
   "metadata": {},
   "outputs": [
    {
     "data": {
      "text/plain": [
       "<Axes: >"
      ]
     },
     "execution_count": 3,
     "metadata": {},
     "output_type": "execute_result"
    },
    {
     "data": {
      "image/png": "[encoded data removed]",
      "text/plain": [
       "<Figure size 640x480 with 2 Axes>"
      ]
     },
     "metadata": {},
     "output_type": "display_data"
    }
   ],
   "source": [
    "import seaborn as sns\n",
    "from sklearn.metrics import confusion_matrix\n",
    "import pandas as pd\n",
    "\n",
    "# Predict on test set\n",
    "y_pred = model.predict(X_test)\n",
    "\n",
    "# Create confusion matrix\n",
    "cm = confusion_matrix(y_test, y_pred)\n",
    "\n",
    "# Create DataFrame for better labeling\n",
    "labels = ['No Disease', 'Disease']\n",
    "cm_df = pd.DataFrame(cm, index=labels, columns=labels)\n",
    "\n",
    "# Plot using seaborn heatmap\n",
    "sns.heatmap(cm_df, annot=True, fmt='d', cmap='Blues')\n"
   ]
  },
  {
   "cell_type": "code",
   "execution_count": 4,
   "metadata": {},
   "outputs": [
    {
     "name": "stdout",
     "output_type": "stream",
     "text": [
      "Input data for prediction:    age  sex  cp  trestbps  chol  fbs  restecg  thalach  exang  oldpeak  slope  \\\n",
      "0   63    1   3       145   233    1        0      150      0      2.3      1   \n",
      "\n",
      "   ca  thal  \n",
      "0   0     1  \n",
      "Prediction result: 1\n",
      "Predicted heart disease: Yes\n"
     ]
    }
   ],
   "source": [
    "import joblib\n",
    "import pandas as pd\n",
    "\n",
    "# Load the trained model\n",
    "model = joblib.load('heart_disease_model.pkl')\n",
    "\n",
    "# Function to predict heart disease\n",
    "def predict_heart_disease(input_data):\n",
    "    # Convert input data to DataFrame\n",
    "    input_df = pd.DataFrame([input_data])\n",
    "    \n",
    "    # Log the input data for debugging\n",
    "    print(\"Input data for prediction:\", input_df)\n",
    "\n",
    "    # Make prediction\n",
    "    prediction = model.predict(input_df)\n",
    "    \n",
    "    # Log the prediction result\n",
    "    print(\"Prediction result:\", prediction[0])\n",
    "    \n",
    "    return prediction[0]\n",
    "\n",
    "# Example usage\n",
    "if __name__ == \"__main__\":\n",
    "    # Example input data (replace with actual data)\n",
    "    input_data = {\n",
    "        'age': 63,\n",
    "        'sex': 1,\n",
    "        'cp': 3,\n",
    "        'trestbps': 145,\n",
    "        'chol': 233,\n",
    "        'fbs': 1,\n",
    "        'restecg': 0,\n",
    "        'thalach': 150,\n",
    "        'exang': 0,\n",
    "        'oldpeak': 2.3,\n",
    "        'slope': 1,\n",
    "        'ca': 0,\n",
    "        'thal': 1\n",
    "    }\n",
    "    \n",
    "    result = predict_heart_disease(input_data)\n",
    "    print(\"Predicted heart disease:\", \"Yes\" if result == 1 else \"No\")\n"
   ]
  },
  {
   "cell_type": "code",
   "execution_count": 13,
   "metadata": {},
   "outputs": [
    {
     "name": "stdout",
     "output_type": "stream",
     "text": [
      "\n",
      "🧪 Confusion Matrix:\n",
      "[[102   0]\n",
      " [  3 100]]\n",
      "\n",
      "📊 Classification Report:\n",
      "              precision    recall  f1-score   support\n",
      "\n",
      "           0       0.97      1.00      0.99       102\n",
      "           1       1.00      0.97      0.99       103\n",
      "\n",
      "    accuracy                           0.99       205\n",
      "   macro avg       0.99      0.99      0.99       205\n",
      "weighted avg       0.99      0.99      0.99       205\n",
      "\n",
      "✅ Accuracy: 0.9854\n",
      "🎯 F1 Score: 0.9852\n",
      "Model saved as 'xgboost_heart_model.pkl'\n"
     ]
    }
   ],
   "source": [
    "import pandas as pd\n",
    "from sklearn.model_selection import train_test_split\n",
    "from sklearn.metrics import accuracy_score, f1_score, classification_report, confusion_matrix\n",
    "from xgboost import XGBClassifier\n",
    "\n",
    "# Load data\n",
    "data = pd.read_csv('heart.csv')\n",
    "\n",
    "\n",
    "# Prepare features and target\n",
    "X = data.drop('target', axis=1)\n",
    "y = data['target']\n",
    "\n",
    "# Split data\n",
    "X_train, X_test, y_train, y_test = train_test_split(X, y, test_size=0.2, random_state=42)\n",
    "\n",
    "# Train XGBoost\n",
    "model = XGBClassifier(eval_metric='logloss')\n",
    "model.fit(X_train, y_train)\n",
    "\n",
    "# Predict\n",
    "y_pred = model.predict(X_test)\n",
    "\n",
    "# Evaluate\n",
    "print(\"\\n🧪 Confusion Matrix:\")\n",
    "print(confusion_matrix(y_test, y_pred))\n",
    "\n",
    "print(\"\\n📊 Classification Report:\")\n",
    "print(classification_report(y_test, y_pred))\n",
    "\n",
    "print(f\"✅ Accuracy: {accuracy_score(y_test, y_pred):.4f}\")\n",
    "print(f\"🎯 F1 Score: {f1_score(y_test, y_pred):.4f}\")\n",
    "\n",
    "import joblib\n",
    "\n",
    "# Save the model\n",
    "joblib.dump(model, 'xgboost_heart_model.pkl')\n",
    "print(\"Model saved as 'xgboost_heart_model.pkl'\")\n"
   ]
  },
  {
   "cell_type": "code",
   "execution_count": 11,
   "metadata": {},
   "outputs": [
    {
     "name": "stdout",
     "output_type": "stream",
     "text": [
      "Input data for prediction:    age  sex  cp  trestbps  chol  fbs  restecg  thalach  exang  oldpeak  slope  \\\n",
      "0   63    1   3       145   233    1        0      150      0      2.3      1   \n",
      "\n",
      "   ca  thal  \n",
      "0   0     1  \n",
      "Prediction result: 1\n",
      "Predicted heart disease: Yes\n"
     ]
    }
   ],
   "source": [
    "import joblib\n",
    "import pandas as pd\n",
    "\n",
    "# Load the trained model\n",
    "model = joblib.load('xgboost_heart_model.pkl')\n",
    "\n",
    "# Function to predict heart disease\n",
    "def predict_heart_disease(input_data):\n",
    "    # Convert input data to DataFrame\n",
    "    input_df = pd.DataFrame([input_data])\n",
    "    \n",
    "    # Log the input data for debugging\n",
    "    print(\"Input data for prediction:\", input_df)\n",
    "\n",
    "    # Make prediction\n",
    "    prediction = model.predict(input_df)\n",
    "    \n",
    "    # Log the prediction result\n",
    "    print(\"Prediction result:\", prediction[0])\n",
    "    \n",
    "    return prediction[0]\n",
    "\n",
    "# Example usage\n",
    "if __name__ == \"__main__\":\n",
    "    # Example input data (replace with actual data)\n",
    "    input_data = {\n",
    "        'age': 63,\n",
    "        'sex': 1,\n",
    "        'cp': 3,\n",
    "        'trestbps': 145,\n",
    "        'chol': 233,\n",
    "        'fbs': 1,\n",
    "        'restecg': 0,\n",
    "        'thalach': 150,\n",
    "        'exang': 0,\n",
    "        'oldpeak': 2.3,\n",
    "        'slope': 1,\n",
    "        'ca': 0,\n",
    "        'thal': 1\n",
    "    }\n",
    "    \n",
    "    result = predict_heart_disease(input_data)\n",
    "    print(\"Predicted heart disease:\", \"Yes\" if result == 1 else \"No\")\n"
   ]
  },
  {
   "cell_type": "code",
   "execution_count": 14,
   "metadata": {},
   "outputs": [
    {
     "data": {
      "text/plain": [
       "<Axes: >"
      ]
     },
     "execution_count": 14,
     "metadata": {},
     "output_type": "execute_result"
    },
    {
     "data": {
      "image/png": "[encoded data removed]",
      "text/plain": [
       "<Figure size 640x480 with 2 Axes>"
      ]
     },
     "metadata": {},
     "output_type": "display_data"
    }
   ],
   "source": [
    "import seaborn as sns\n",
    "from sklearn.metrics import confusion_matrix\n",
    "import pandas as pd\n",
    "\n",
    "# Predict on test set\n",
    "y_pred = model.predict(X_test)\n",
    "\n",
    "# Create confusion matrix\n",
    "cm = confusion_matrix(y_test, y_pred)\n",
    "\n",
    "# Create DataFrame for better labeling\n",
    "labels = ['No Disease', 'Disease']\n",
    "cm_df = pd.DataFrame(cm, index=labels, columns=labels)\n",
    "\n",
    "# Plot using seaborn heatmap\n",
    "sns.heatmap(cm_df, annot=True, fmt='d', cmap='Blues')"
   ]
  }
 ],
 "metadata": {
  "kernelspec": {
   "display_name": "Python 3 (ipykernel)",
   "language": "python",
   "name": "python3"
  },
  "language_info": {
   "codemirror_mode": {
    "name": "ipython",
    "version": 3
   },
   "file_extension": ".py",
   "mimetype": "text/x-python",
   "name": "python",
   "nbconvert_exporter": "python",
   "pygments_lexer": "ipython3",
   "version": "3.12.4"
  }
 },
 "nbformat": 4,
 "nbformat_minor": 4
}
